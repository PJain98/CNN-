{
 "cells": [
  {
   "cell_type": "code",
   "execution_count": null,
   "id": "b5369537",
   "metadata": {},
   "outputs": [],
   "source": []
  },
  {
   "cell_type": "code",
   "execution_count": 25,
   "id": "c53e21db",
   "metadata": {},
   "outputs": [],
   "source": [
    "from tensorflow.keras.layers import Input, Lambda, Dense, Flatten, Conv2D, MaxPooling2D\n",
    "from tensorflow.keras.models import Model\n",
    "\n",
    "from tensorflow.keras.preprocessing import image\n",
    "from tensorflow.keras.preprocessing.image import ImageDataGenerator,load_img\n",
    "from tensorflow.keras.models import Sequential\n",
    "import numpy as np\n",
    "from glob import glob\n",
    "import matplotlib.pyplot as plt\n"
   ]
  },
  {
   "cell_type": "code",
   "execution_count": 26,
   "id": "72d427a7",
   "metadata": {},
   "outputs": [],
   "source": [
    "IMAGE_SIZE = [224, 224]\n",
    "\n",
    "train_path = r'C:/Users/prakh/Desktop/Classifier/Friends'\n",
    "valid_path = r'C:/Users/prakh/Desktop/Classifier/Friends'"
   ]
  },
  {
   "cell_type": "code",
   "execution_count": 27,
   "id": "35384802",
   "metadata": {},
   "outputs": [],
   "source": [
    "model = Sequential()"
   ]
  },
  {
   "cell_type": "code",
   "execution_count": 28,
   "id": "441df529",
   "metadata": {},
   "outputs": [],
   "source": [
    "model.add(Conv2D(filters=96, input_shape=(224,224,3), kernel_size=(11,11),strides=(4,4), padding='valid',activation='relu'))"
   ]
  },
  {
   "cell_type": "code",
   "execution_count": 29,
   "id": "659eebc8",
   "metadata": {},
   "outputs": [],
   "source": [
    "model.add(MaxPooling2D(pool_size=(2,2), strides=(2,2), padding='valid'))"
   ]
  },
  {
   "cell_type": "code",
   "execution_count": 30,
   "id": "1fb00e2c",
   "metadata": {},
   "outputs": [],
   "source": [
    "from tensorflow.keras.layers import BatchNormalization"
   ]
  },
  {
   "cell_type": "code",
   "execution_count": 31,
   "id": "3962b1c9",
   "metadata": {},
   "outputs": [],
   "source": [
    "model.add(BatchNormalization())"
   ]
  },
  {
   "cell_type": "code",
   "execution_count": 32,
   "id": "e6630f5a",
   "metadata": {},
   "outputs": [
    {
     "name": "stdout",
     "output_type": "stream",
     "text": [
      "Model: \"sequential_1\"\n",
      "_________________________________________________________________\n",
      "Layer (type)                 Output Shape              Param #   \n",
      "=================================================================\n",
      "conv2d_2 (Conv2D)            (None, 54, 54, 96)        34944     \n",
      "_________________________________________________________________\n",
      "max_pooling2d_2 (MaxPooling2 (None, 27, 27, 96)        0         \n",
      "_________________________________________________________________\n",
      "batch_normalization_1 (Batch (None, 27, 27, 96)        384       \n",
      "=================================================================\n",
      "Total params: 35,328\n",
      "Trainable params: 35,136\n",
      "Non-trainable params: 192\n",
      "_________________________________________________________________\n"
     ]
    }
   ],
   "source": [
    "model.summary()"
   ]
  },
  {
   "cell_type": "code",
   "execution_count": 33,
   "id": "8beac180",
   "metadata": {},
   "outputs": [],
   "source": [
    "model.add(Conv2D(filters=256, kernel_size=(11,11), strides=(1,1), padding='valid',activation='relu'))"
   ]
  },
  {
   "cell_type": "code",
   "execution_count": 34,
   "id": "ec4c0ee4",
   "metadata": {},
   "outputs": [
    {
     "name": "stdout",
     "output_type": "stream",
     "text": [
      "Model: \"sequential_1\"\n",
      "_________________________________________________________________\n",
      "Layer (type)                 Output Shape              Param #   \n",
      "=================================================================\n",
      "conv2d_2 (Conv2D)            (None, 54, 54, 96)        34944     \n",
      "_________________________________________________________________\n",
      "max_pooling2d_2 (MaxPooling2 (None, 27, 27, 96)        0         \n",
      "_________________________________________________________________\n",
      "batch_normalization_1 (Batch (None, 27, 27, 96)        384       \n",
      "_________________________________________________________________\n",
      "conv2d_3 (Conv2D)            (None, 17, 17, 256)       2973952   \n",
      "=================================================================\n",
      "Total params: 3,009,280\n",
      "Trainable params: 3,009,088\n",
      "Non-trainable params: 192\n",
      "_________________________________________________________________\n"
     ]
    }
   ],
   "source": [
    "model.summary()"
   ]
  },
  {
   "cell_type": "code",
   "execution_count": 35,
   "id": "38699c8c",
   "metadata": {},
   "outputs": [],
   "source": [
    "model.add(MaxPooling2D(pool_size=(2,2), strides=(2,2), padding='valid'))"
   ]
  },
  {
   "cell_type": "code",
   "execution_count": 36,
   "id": "2d1a5229",
   "metadata": {},
   "outputs": [
    {
     "name": "stdout",
     "output_type": "stream",
     "text": [
      "Model: \"sequential_1\"\n",
      "_________________________________________________________________\n",
      "Layer (type)                 Output Shape              Param #   \n",
      "=================================================================\n",
      "conv2d_2 (Conv2D)            (None, 54, 54, 96)        34944     \n",
      "_________________________________________________________________\n",
      "max_pooling2d_2 (MaxPooling2 (None, 27, 27, 96)        0         \n",
      "_________________________________________________________________\n",
      "batch_normalization_1 (Batch (None, 27, 27, 96)        384       \n",
      "_________________________________________________________________\n",
      "conv2d_3 (Conv2D)            (None, 17, 17, 256)       2973952   \n",
      "_________________________________________________________________\n",
      "max_pooling2d_3 (MaxPooling2 (None, 8, 8, 256)         0         \n",
      "=================================================================\n",
      "Total params: 3,009,280\n",
      "Trainable params: 3,009,088\n",
      "Non-trainable params: 192\n",
      "_________________________________________________________________\n"
     ]
    }
   ],
   "source": [
    "model.summary()"
   ]
  },
  {
   "cell_type": "code",
   "execution_count": 37,
   "id": "b817cb1d",
   "metadata": {},
   "outputs": [],
   "source": [
    "x = Flatten()(model.output)"
   ]
  },
  {
   "cell_type": "code",
   "execution_count": 38,
   "id": "88ce7f96",
   "metadata": {},
   "outputs": [],
   "source": [
    "prediction = Dense(4, activation='softmax')(x)"
   ]
  },
  {
   "cell_type": "code",
   "execution_count": 39,
   "id": "1949858d",
   "metadata": {},
   "outputs": [],
   "source": [
    "model= Model(model.input,outputs =prediction)"
   ]
  },
  {
   "cell_type": "code",
   "execution_count": 40,
   "id": "b2a9a694",
   "metadata": {},
   "outputs": [
    {
     "name": "stdout",
     "output_type": "stream",
     "text": [
      "Model: \"model_1\"\n",
      "_________________________________________________________________\n",
      "Layer (type)                 Output Shape              Param #   \n",
      "=================================================================\n",
      "conv2d_2_input (InputLayer)  [(None, 224, 224, 3)]     0         \n",
      "_________________________________________________________________\n",
      "conv2d_2 (Conv2D)            (None, 54, 54, 96)        34944     \n",
      "_________________________________________________________________\n",
      "max_pooling2d_2 (MaxPooling2 (None, 27, 27, 96)        0         \n",
      "_________________________________________________________________\n",
      "batch_normalization_1 (Batch (None, 27, 27, 96)        384       \n",
      "_________________________________________________________________\n",
      "conv2d_3 (Conv2D)            (None, 17, 17, 256)       2973952   \n",
      "_________________________________________________________________\n",
      "max_pooling2d_3 (MaxPooling2 (None, 8, 8, 256)         0         \n",
      "_________________________________________________________________\n",
      "flatten_1 (Flatten)          (None, 16384)             0         \n",
      "_________________________________________________________________\n",
      "dense_1 (Dense)              (None, 4)                 65540     \n",
      "=================================================================\n",
      "Total params: 3,074,820\n",
      "Trainable params: 3,074,628\n",
      "Non-trainable params: 192\n",
      "_________________________________________________________________\n"
     ]
    }
   ],
   "source": [
    "model.summary()"
   ]
  },
  {
   "cell_type": "code",
   "execution_count": 41,
   "id": "f52e7797",
   "metadata": {},
   "outputs": [],
   "source": [
    "# tell the model what cost and optimization method to use\n",
    "model.compile(\n",
    "  loss='categorical_crossentropy',\n",
    "  optimizer='adam',\n",
    "  metrics=['accuracy']\n",
    ")"
   ]
  },
  {
   "cell_type": "code",
   "execution_count": 42,
   "id": "f8955bea",
   "metadata": {},
   "outputs": [],
   "source": [
    "from tensorflow.keras.preprocessing.image import ImageDataGenerator\n",
    "\n",
    "train_datagen = ImageDataGenerator(rescale = 1./255,\n",
    "                                   shear_range = 0.2,\n",
    "                                   zoom_range = 0.2,\n",
    "                                   horizontal_flip = True)\n",
    "\n",
    "test_datagen = ImageDataGenerator(rescale = 1./255)\n"
   ]
  },
  {
   "cell_type": "code",
   "execution_count": 43,
   "id": "3ca2fd7c",
   "metadata": {},
   "outputs": [
    {
     "name": "stdout",
     "output_type": "stream",
     "text": [
      "Found 62 images belonging to 4 classes.\n"
     ]
    }
   ],
   "source": [
    "training_set = train_datagen.flow_from_directory(train_path ,\n",
    "                                                 target_size = (224, 224),\n",
    "                                                 batch_size = 2,\n",
    "                                                 class_mode = 'categorical')"
   ]
  },
  {
   "cell_type": "code",
   "execution_count": 44,
   "id": "493e6107",
   "metadata": {},
   "outputs": [
    {
     "name": "stdout",
     "output_type": "stream",
     "text": [
      "Found 62 images belonging to 4 classes.\n"
     ]
    }
   ],
   "source": [
    "test_set = test_datagen.flow_from_directory(valid_path,\n",
    "                                            target_size = (224, 224),\n",
    "                                            batch_size = 2,\n",
    "                                            class_mode = 'categorical')"
   ]
  },
  {
   "cell_type": "code",
   "execution_count": 45,
   "id": "5e9dce06",
   "metadata": {},
   "outputs": [
    {
     "name": "stdout",
     "output_type": "stream",
     "text": [
      "Epoch 1/50\n",
      "31/31 [==============================] - 7s 215ms/step - loss: 10.4014 - accuracy: 0.2258 - val_loss: 5.8947 - val_accuracy: 0.1774\n",
      "Epoch 2/50\n",
      "31/31 [==============================] - 6s 194ms/step - loss: 2.2874 - accuracy: 0.3710 - val_loss: 1.6650 - val_accuracy: 0.3548\n",
      "Epoch 3/50\n",
      "31/31 [==============================] - 6s 206ms/step - loss: 1.4005 - accuracy: 0.4194 - val_loss: 1.2963 - val_accuracy: 0.5484\n",
      "Epoch 4/50\n",
      "31/31 [==============================] - 7s 214ms/step - loss: 1.1277 - accuracy: 0.5323 - val_loss: 1.1652 - val_accuracy: 0.4839\n",
      "Epoch 5/50\n",
      "31/31 [==============================] - 6s 206ms/step - loss: 1.1533 - accuracy: 0.4516 - val_loss: 1.2198 - val_accuracy: 0.6129\n",
      "Epoch 6/50\n",
      "31/31 [==============================] - 6s 205ms/step - loss: 1.0136 - accuracy: 0.6290 - val_loss: 0.7792 - val_accuracy: 0.6452\n",
      "Epoch 7/50\n",
      "31/31 [==============================] - 6s 206ms/step - loss: 0.7883 - accuracy: 0.7258 - val_loss: 1.6782 - val_accuracy: 0.5806\n",
      "Epoch 8/50\n",
      "31/31 [==============================] - 6s 196ms/step - loss: 0.6364 - accuracy: 0.7581 - val_loss: 0.6856 - val_accuracy: 0.7419\n",
      "Epoch 9/50\n",
      "31/31 [==============================] - 7s 211ms/step - loss: 0.6851 - accuracy: 0.7581 - val_loss: 0.5610 - val_accuracy: 0.8065\n",
      "Epoch 10/50\n",
      "31/31 [==============================] - 6s 201ms/step - loss: 0.5961 - accuracy: 0.7258 - val_loss: 0.4040 - val_accuracy: 0.8387\n",
      "Epoch 11/50\n",
      "31/31 [==============================] - 6s 202ms/step - loss: 0.4913 - accuracy: 0.8226 - val_loss: 0.1263 - val_accuracy: 0.9677\n",
      "Epoch 12/50\n",
      "31/31 [==============================] - 6s 194ms/step - loss: 0.4820 - accuracy: 0.8065 - val_loss: 7.2803 - val_accuracy: 0.4355\n",
      "Epoch 13/50\n",
      "31/31 [==============================] - 6s 199ms/step - loss: 0.9426 - accuracy: 0.6774 - val_loss: 0.4997 - val_accuracy: 0.8065\n",
      "Epoch 14/50\n",
      "31/31 [==============================] - 7s 217ms/step - loss: 0.3433 - accuracy: 0.8710 - val_loss: 0.0930 - val_accuracy: 0.9677\n",
      "Epoch 15/50\n",
      "31/31 [==============================] - 7s 224ms/step - loss: 0.3728 - accuracy: 0.8871 - val_loss: 1.4462 - val_accuracy: 0.7419\n",
      "Epoch 16/50\n",
      "31/31 [==============================] - 7s 223ms/step - loss: 0.6027 - accuracy: 0.8710 - val_loss: 0.4082 - val_accuracy: 0.8871\n",
      "Epoch 17/50\n",
      "31/31 [==============================] - 7s 216ms/step - loss: 0.2681 - accuracy: 0.8710 - val_loss: 0.2178 - val_accuracy: 0.8710\n",
      "Epoch 18/50\n",
      "31/31 [==============================] - 7s 231ms/step - loss: 0.2227 - accuracy: 0.9194 - val_loss: 0.1885 - val_accuracy: 0.9194\n",
      "Epoch 19/50\n",
      "31/31 [==============================] - 8s 247ms/step - loss: 0.4720 - accuracy: 0.8548 - val_loss: 0.5373 - val_accuracy: 0.7581\n",
      "Epoch 20/50\n",
      "31/31 [==============================] - 8s 256ms/step - loss: 0.2095 - accuracy: 0.9194 - val_loss: 0.1567 - val_accuracy: 0.9516\n",
      "Epoch 21/50\n",
      "31/31 [==============================] - 7s 221ms/step - loss: 0.1076 - accuracy: 0.9677 - val_loss: 0.0842 - val_accuracy: 0.9677\n",
      "Epoch 22/50\n",
      "31/31 [==============================] - 6s 207ms/step - loss: 0.2626 - accuracy: 0.8871 - val_loss: 5.2193 - val_accuracy: 0.5968\n",
      "Epoch 23/50\n",
      "31/31 [==============================] - 6s 204ms/step - loss: 0.4069 - accuracy: 0.8710 - val_loss: 3.0783 - val_accuracy: 0.5806\n",
      "Epoch 24/50\n",
      "31/31 [==============================] - 6s 204ms/step - loss: 0.4369 - accuracy: 0.8871 - val_loss: 0.4578 - val_accuracy: 0.8226\n",
      "Epoch 25/50\n",
      "31/31 [==============================] - 6s 205ms/step - loss: 0.1744 - accuracy: 0.9516 - val_loss: 0.5552 - val_accuracy: 0.8548\n",
      "Epoch 26/50\n",
      "31/31 [==============================] - 6s 208ms/step - loss: 0.1035 - accuracy: 0.9516 - val_loss: 1.2813 - val_accuracy: 0.8065\n",
      "Epoch 27/50\n",
      "31/31 [==============================] - 6s 197ms/step - loss: 0.1943 - accuracy: 0.8710 - val_loss: 0.0444 - val_accuracy: 0.9839\n",
      "Epoch 28/50\n",
      "31/31 [==============================] - 6s 194ms/step - loss: 0.1143 - accuracy: 0.9516 - val_loss: 0.0548 - val_accuracy: 1.0000\n",
      "Epoch 29/50\n",
      "31/31 [==============================] - 6s 202ms/step - loss: 0.0625 - accuracy: 0.9839 - val_loss: 0.0597 - val_accuracy: 0.9839\n",
      "Epoch 30/50\n",
      "31/31 [==============================] - 6s 207ms/step - loss: 0.1097 - accuracy: 0.9516 - val_loss: 0.0947 - val_accuracy: 0.9677\n",
      "Epoch 31/50\n",
      "31/31 [==============================] - 6s 196ms/step - loss: 0.0677 - accuracy: 0.9839 - val_loss: 0.0762 - val_accuracy: 0.9839\n",
      "Epoch 32/50\n",
      "31/31 [==============================] - 6s 196ms/step - loss: 0.1227 - accuracy: 0.9516 - val_loss: 0.0979 - val_accuracy: 0.9516\n",
      "Epoch 33/50\n",
      "31/31 [==============================] - 6s 193ms/step - loss: 0.2175 - accuracy: 0.9194 - val_loss: 0.0548 - val_accuracy: 1.0000\n",
      "Epoch 34/50\n",
      "31/31 [==============================] - 7s 214ms/step - loss: 0.4121 - accuracy: 0.9677 - val_loss: 1.9720 - val_accuracy: 0.8548\n",
      "Epoch 35/50\n",
      "31/31 [==============================] - 6s 208ms/step - loss: 0.2358 - accuracy: 0.9355 - val_loss: 0.1459 - val_accuracy: 0.9839\n",
      "Epoch 36/50\n",
      "31/31 [==============================] - 7s 216ms/step - loss: 0.2311 - accuracy: 0.9516 - val_loss: 3.9074 - val_accuracy: 0.5645\n",
      "Epoch 37/50\n",
      "31/31 [==============================] - 6s 199ms/step - loss: 0.2531 - accuracy: 0.9032 - val_loss: 0.3946 - val_accuracy: 0.9194\n",
      "Epoch 38/50\n",
      "31/31 [==============================] - 6s 209ms/step - loss: 0.4521 - accuracy: 0.8710 - val_loss: 0.2853 - val_accuracy: 0.9516\n",
      "Epoch 39/50\n",
      "31/31 [==============================] - 7s 215ms/step - loss: 0.2335 - accuracy: 0.9516 - val_loss: 0.1259 - val_accuracy: 0.9677\n",
      "Epoch 40/50\n",
      "31/31 [==============================] - 7s 214ms/step - loss: 0.0927 - accuracy: 0.9516 - val_loss: 0.0818 - val_accuracy: 0.9677\n",
      "Epoch 41/50\n",
      "31/31 [==============================] - 7s 212ms/step - loss: 0.0258 - accuracy: 1.0000 - val_loss: 0.0230 - val_accuracy: 1.0000\n",
      "Epoch 42/50\n",
      "31/31 [==============================] - 7s 210ms/step - loss: 0.0268 - accuracy: 0.9839 - val_loss: 0.0428 - val_accuracy: 0.9839\n",
      "Epoch 43/50\n",
      "31/31 [==============================] - 7s 211ms/step - loss: 0.0185 - accuracy: 1.0000 - val_loss: 0.0433 - val_accuracy: 0.9839\n",
      "Epoch 44/50\n",
      "31/31 [==============================] - 7s 224ms/step - loss: 0.0027 - accuracy: 1.0000 - val_loss: 0.0212 - val_accuracy: 0.9839\n",
      "Epoch 45/50\n",
      "31/31 [==============================] - 7s 238ms/step - loss: 0.0065 - accuracy: 1.0000 - val_loss: 0.0032 - val_accuracy: 1.0000\n",
      "Epoch 46/50\n",
      "31/31 [==============================] - 6s 206ms/step - loss: 0.0021 - accuracy: 1.0000 - val_loss: 0.0027 - val_accuracy: 1.0000\n",
      "Epoch 47/50\n",
      "31/31 [==============================] - 6s 207ms/step - loss: 0.0177 - accuracy: 1.0000 - val_loss: 0.0127 - val_accuracy: 1.0000\n",
      "Epoch 48/50\n",
      "31/31 [==============================] - 7s 221ms/step - loss: 0.0095 - accuracy: 1.0000 - val_loss: 0.0186 - val_accuracy: 0.9839\n",
      "Epoch 49/50\n",
      "31/31 [==============================] - 7s 219ms/step - loss: 0.0084 - accuracy: 1.0000 - val_loss: 0.0095 - val_accuracy: 1.0000\n",
      "Epoch 50/50\n",
      "31/31 [==============================] - 6s 207ms/step - loss: 0.0407 - accuracy: 0.9839 - val_loss: 0.0168 - val_accuracy: 1.0000\n"
     ]
    }
   ],
   "source": [
    "# fit the model\n",
    "r = model.fit_generator(\n",
    "  training_set,\n",
    "  validation_data=test_set,\n",
    "  epochs=50,\n",
    "  steps_per_epoch=len(training_set),\n",
    "  validation_steps=len(test_set)\n",
    ")"
   ]
  },
  {
   "cell_type": "code",
   "execution_count": null,
   "id": "14b09062",
   "metadata": {},
   "outputs": [],
   "source": []
  },
  {
   "cell_type": "code",
   "execution_count": null,
   "id": "ad665d18",
   "metadata": {},
   "outputs": [],
   "source": []
  }
 ],
 "metadata": {
  "kernelspec": {
   "display_name": "Python 3",
   "language": "python",
   "name": "python3"
  },
  "language_info": {
   "codemirror_mode": {
    "name": "ipython",
    "version": 3
   },
   "file_extension": ".py",
   "mimetype": "text/x-python",
   "name": "python",
   "nbconvert_exporter": "python",
   "pygments_lexer": "ipython3",
   "version": "3.6.9"
  }
 },
 "nbformat": 4,
 "nbformat_minor": 5
}
